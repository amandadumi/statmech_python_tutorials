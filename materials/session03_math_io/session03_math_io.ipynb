{
 "cells": [
  {
   "cell_type": "code",
   "execution_count": null,
   "metadata": {},
   "outputs": [],
   "source": [
    "import test_answers as tes"
   ]
  },
  {
   "cell_type": "markdown",
   "metadata": {},
   "source": [
    "In this session, our objectives will be:\n",
    "- reviewing data types\n",
    "- learning mathmetical operations\n",
    "- writing Python functions\n",
    "- random number generators\n",
    "- writing data to an output file"
   ]
  },
  {
   "cell_type": "markdown",
   "metadata": {},
   "source": [
    "## Data types\n",
    "\n",
    "As a refresher, in session 2 we discussed that there are a few different data types we need to bring aware of:\n",
    "2. floats\n",
    "    * decimal number (1.2, 0.4, 1.0, 5.18273)\n",
    "1. integers or ints\n",
    "    * whole numbers (1,2,3) \n",
    "    * in Python, most numbers are assumed to be floats. Thus we must coerce the value to be an int. For instance, if we want 3 to be an int, we will type `int(3)` in our code \n",
    "3. strings\n",
    "    * a collection of characters to be stored as text\n",
    "    * always expressed within quotes ('dog', 'three', '1.2')\n",
    "4. lists\n",
    "    * a set of other variable.\n",
    "    * represented within a set of square brakets\n",
    "    * can be ints (`[1,2,3,4]`), floats(`[1.2, 3.4, 7.0, .5]`), or strings ( `['dog', 'cat', 'snake']`)\n",
    "\n",
    "If you are ever coding and need to figure out what type a specific variable is, you can always use the command \"`type(variable_name)`\". In the code blocks below, you will assign a variable 'x' to value that is of the data type float. "
   ]
  },
  {
   "cell_type": "code",
   "execution_count": null,
   "metadata": {},
   "outputs": [],
   "source": [
    "# set x to a float value\n",
    "x = \n",
    "#the line below will call a function to check your answer. Do not change it!\n",
    "tes.check_x(x)"
   ]
  },
  {
   "cell_type": "markdown",
   "metadata": {},
   "source": [
    "In the code blocks below, you will assign a variable 'y' to value that is of the data type int. "
   ]
  },
  {
   "cell_type": "code",
   "execution_count": null,
   "metadata": {},
   "outputs": [],
   "source": [
    "# set y to an int value\n",
    "y = \n",
    "#the line below will call a function to check your answer. Do not change it!\n",
    "tes.check_y(y)"
   ]
  },
  {
   "cell_type": "markdown",
   "metadata": {},
   "source": [
    "In the code blocks below, you will assign a variable 'y' to value that is of the data type int. "
   ]
  },
  {
   "cell_type": "code",
   "execution_count": null,
   "metadata": {},
   "outputs": [],
   "source": [
    "# set z to an str value\n",
    "z = 'abc'\n",
    "#the line below will call a function to check your answer. Do not change it!\n",
    "tes.check_z(z)"
   ]
  },
  {
   "cell_type": "markdown",
   "metadata": {},
   "source": [
    "# Mathematical Operations\n",
    "\n",
    "There are also a collection of mathematical operations you will see throughout the notebooks. The table below summarizes them. \n",
    "\n",
    "| symbol        | operation     |\n",
    "| ------------- |:-------------:|\n",
    "| +             | addition      |\n",
    "| -             | subtraction   |\n",
    "| *             | multiplication|\n",
    "| /             | division      |\n",
    "| **            | exponentiate  |\n",
    "| %             | modulo        |\n",
    "\n",
    "The only one that may not be intuitive is the % operation. This will return the remainder of dividing two numbers. The code block that follows just shows an example of each command being used and prints out the result. You do **not** have to code anything below, but run the cell, consider ther results, and use these as reference later.\n"
   ]
  },
  {
   "cell_type": "code",
   "execution_count": null,
   "metadata": {},
   "outputs": [],
   "source": [
    "add=4+3\n",
    "print('addition result: {}'.format(add))\n",
    "\n",
    "subtract = 4-3\n",
    "print('subtraction result: {}'.format(subtract))\n",
    "\n",
    "multiply = 4*3\n",
    "print('multiplication result: {}'.format(multiply))\n",
    "\n",
    "divide = 4/3\n",
    "print('division result: {}'.format(divide))\n",
    "\n",
    "exponent= 4**3\n",
    "print('exponentiation result: {}'.format(exponent))\n",
    "\n",
    "modulus=4%3\n",
    "print('remainder result: {}'.format(modulus))"
   ]
  },
  {
   "cell_type": "markdown",
   "metadata": {},
   "source": [
    "## Your Task!\n",
    "set the variables below according to the instructions:\n",
    "1. assign the variable 'add' the sum of 1745 and 8765.1\n",
    "2. assign the variable 'subtract' as the differnce between 4587.6 and 423.9 \n",
    "3. assign the variable 'multiply' to 54 multiplied by 76\n",
    "4. assign the variable 'divide' to 76 divided by 9\n",
    "5. assign the variable exponent to 37 raised to the 6 power\n",
    "6. assign the varaible 'modulus' to return the remainder of 87 divided by 6.9\n",
    "\n",
    "Note: you do not have to add any print functions, though you can if they help you with debugging. "
   ]
  },
  {
   "cell_type": "code",
   "execution_count": null,
   "metadata": {},
   "outputs": [],
   "source": [
    "add = \n",
    "subtract = \n",
    "multiply =\n",
    "divide =\n",
    "exponent =\n",
    "modulus =\n",
    "\n",
    "#the line below will call a function to check your answer. Do not change it!\n",
    "tes.check_math_operation(add,subtract,multiply,divide,exponent,modulus)"
   ]
  },
  {
   "cell_type": "markdown",
   "metadata": {},
   "source": [
    "# Parentheses\n",
    "\n",
    "As when working with graphing calculators or excel, parantheses are used to direct your order of operations, otherwise they are carried out in a linear fashion. "
   ]
  },
  {
   "cell_type": "code",
   "execution_count": null,
   "metadata": {},
   "outputs": [],
   "source": [
    "#parentheses\n",
    "\n",
    "try1=(4+3)/5+(6*9)/(3+2)\n",
    "try2=4+3/5+6*9/3+2\n",
    "print(try1)\n",
    "print(try2)"
   ]
  },
  {
   "cell_type": "markdown",
   "metadata": {},
   "source": [
    "## Your task!\n",
    "\n",
    "Try coding the following expression, utilizing parenthesis. \n",
    "\n",
    "$$\\frac{8+9^{2+5}}{6-5*7}$$"
   ]
  },
  {
   "cell_type": "code",
   "execution_count": null,
   "metadata": {},
   "outputs": [],
   "source": [
    "#code your attempt below\n",
    "answer=\n",
    "\n",
    "#This will check your answer, do not change.\n",
    "tes.check_parentheses(answer)"
   ]
  },
  {
   "cell_type": "markdown",
   "metadata": {},
   "source": [
    "# Defining Functions\n",
    "\n",
    "As you might be able to see in the last section, it could get cumbersome to retype the same operations multiple times with different numbers. Luckily for us, in Python and all other coding languages) you can define a function that will read in variables, perform a specified operation, and return the end result. This saves us the time of typing it out each and everytime and also avoids the error that comes along with that.\n",
    "\n",
    "Function definitions are usually given at the beginning of a script after the imports. An example function is given below"
   ]
  },
  {
   "cell_type": "code",
   "execution_count": null,
   "metadata": {},
   "outputs": [],
   "source": [
    "def example_function(variable1, variable2):\n",
    "    answer = variable1*np.sqrt(variable2)/(variable1+variable2)\n",
    "    return answer"
   ]
  },
  {
   "cell_type": "markdown",
   "metadata": {},
   "source": [
    "to start defining a function, you type 'def'. The name following it will always be the name of the function, in our case 'example_function'. The parantheses after the function contain the arguments read into the function when it is called. Our function takes two variables, 'variable1' and 'variable2'. Everything indented under the def statment will be done each and every time the function is called. The final line return what will be assigned to a variable, in our case it's the result of the following equation:\n",
    "\n",
    "$$\\frac{x_1\\ \\times\\ \\sqrt{x_2}}{x_1\\ +\\ x_2}$$\n",
    "We will print the output of our function in the cell below using 3 as variable1 and 5 as variable2."
   ]
  },
  {
   "cell_type": "code",
   "execution_count": null,
   "metadata": {},
   "outputs": [],
   "source": [
    "answer = example_function(3, 5)\n",
    "print(answer)"
   ]
  },
  {
   "cell_type": "markdown",
   "metadata": {},
   "source": [
    "## Your task!\n",
    "\n",
    "Code a function called `my_function` that takes in two variables as arguments. Can you code a function that returns the result of the following equation:\n",
    "$$\\frac{x_1 \\times (x_1-x_2)}{x_2^{x_1}}$$"
   ]
  },
  {
   "cell_type": "code",
   "execution_count": null,
   "metadata": {},
   "outputs": [],
   "source": [
    "#code your function here\n",
    "\n",
    "#now assign the ouput of the function to the variable answer\n",
    "answer= \n",
    "\n",
    "# print the result here\n"
   ]
  },
  {
   "cell_type": "markdown",
   "metadata": {},
   "source": [
    "Now lets test your function, plug in 3 as the first variable and 5 as the second variable. "
   ]
  },
  {
   "cell_type": "code",
   "execution_count": null,
   "metadata": {},
   "outputs": [],
   "source": [
    "tes.check_function(answer)"
   ]
  },
  {
   "cell_type": "markdown",
   "metadata": {},
   "source": [
    "# Libraries\n",
    "\n",
    "Python has many default capabilities; however, much of Python's power is through the inclusion of external libraries. Some of these libraries are essential for doing scientific calculations (Numpy, Sympy, and Scipy.) Other libraries are used to visualize data and create plots, such as matplotlib. \n",
    "\n",
    "Libraries are easy to incoporate. All you need is a line at the top of your script for each library you will use. \n",
    "\n",
    "###  Coding best practices tip\n",
    "You must be careful to avoid namespace clashes or, in other words, having two functions/operations that share the same name but belong to different libraries. The best coding practice to avoid function overloading is importing each library with a specific name abbreviated name, which requires you to refer the library specifically each time you want to call a function from that library.\n",
    "\n",
    "## Your Task!\n",
    "In the example below, the first line imports a library called Numpy. The varibale `numpy_estimate` stores the square root of two as calculated by Numpy. The second variable called scipy_estimate stores the square root of two as calculate by Scipy. However, your job is to **add a line to the top of this code blocks which will allow us to use the Scipy library with the name sp.**"
   ]
  },
  {
   "cell_type": "code",
   "execution_count": null,
   "metadata": {},
   "outputs": [],
   "source": [
    "import numpy as np\n",
    "# import Scipy here.\n",
    "\n",
    "\n",
    "number_to_evaluate = 2\n",
    "\n",
    "numpy_estimate = np.sqrt(number_to_evaluate)\n",
    "scipy_estimate = sp.sqrt(number_to_evaluate)\n",
    "\n",
    "#The below function prints the output. Do not change!\n",
    "print('numpy estimate: {}\\nscipy estimate: {}'.format(numpy_estimate, scipy_estimate))\n"
   ]
  },
  {
   "cell_type": "markdown",
   "metadata": {},
   "source": [
    "## Numpy Arrays\n",
    "\n",
    "We have discussed lists previously, however if we wanted to store higher dimensional data (as we often want to do in scientific applications), we would be storing lists of lists. This can get a bit clumsy to deal with, not to mention that these lists are not optimal to handle mathematical operations. This is were numpy arrays and n-dimensional arrays (ndarrays) are the preffered data type.\n",
    "\n",
    "Below is an example of creating a numpy 1-D array. "
   ]
  },
  {
   "cell_type": "code",
   "execution_count": 11,
   "metadata": {},
   "outputs": [
    {
     "name": "stdout",
     "output_type": "stream",
     "text": [
      "(4,)\n",
      "(2, 2)\n"
     ]
    }
   ],
   "source": [
    "import numpy ausefuls np\n",
    "a = np.array([1,2,3,4])"
   ]
  },
  {
   "cell_type": "markdown",
   "metadata": {},
   "source": [
    "If we want to create or store 2-d arrays it looks as follows: "
   ]
  },
  {
   "cell_type": "code",
   "execution_count": 12,
   "metadata": {},
   "outputs": [],
   "source": [
    "b = np.array([[1,2],[3,4]])"
   ]
  },
  {
   "cell_type": "markdown",
   "metadata": {},
   "source": [
    "We can compare the shape and dimensions of these two objects.\n",
    "The shape of the functions can be obtained by calling `array.shape` while the dimensions can be obtained by calling `array.ndim`"
   ]
  },
  {
   "cell_type": "code",
   "execution_count": 14,
   "metadata": {},
   "outputs": [
    {
     "name": "stdout",
     "output_type": "stream",
     "text": [
      "The shape of a is (4,). The dimensions of a are 1\n",
      "The shape of b is (2, 2). The dimensions of b are 2\n"
     ]
    }
   ],
   "source": [
    "# Numpy: generating a range of numbers.\n",
    "print('The shape of a is {}. The dimensions of a are {}.'.format(a.shape,a.ndim))\n",
    "print('The shape of b is {}. The dimensions of b are {}.'.format(b.shape,b.ndim))"
   ]
  },
  {
   "cell_type": "markdown",
   "metadata": {},
   "source": [
    "Slicing these arrays works similarly to lists. For instance..."
   ]
  },
  {
   "cell_type": "markdown",
   "metadata": {},
   "source": [
    "## Numpy: generating lists of numbers. \n",
    "We can also generate list of numbers between a certain range or of a certain length. This is accomplishethere are easy way is separating a the space between numbers \n"
   ]
  },
  {
   "cell_type": "markdown",
   "metadata": {},
   "source": [
    "# Writing Data to a File\n",
    "In session 2, we learned to parse data from a file into our code. Now, let us learn how to take data we have calculated in our code and output it to a file.\n",
    "\n",
    "The steps are:\n",
    " 1. open the file with the function `open(output_file_name,'w')`\n",
    " 2. write to the function using the `write()` function\n",
    " 3. ensure you close the file with a call to `close()`"
   ]
  },
  {
   "cell_type": "code",
   "execution_count": null,
   "metadata": {},
   "outputs": [],
   "source": [
    "a = 32\n",
    "output_file_name = 'output_results.txt'\n",
    "output_file_object = open(output_file_name,'w')\n",
    "output_file_object.write('{}'.format(a))\n",
    "output_file_object.close()"
   ]
  },
  {
   "cell_type": "markdown",
   "metadata": {},
   "source": [
    "After running this cell, you should see a file in the directory named `output_results.txt`. When you open this file, you should see the variable 32 has been written to it.\n",
    "\n",
    "There is prefered way of doing this, which is more concise and avoids the chance of leaving many files open.\n",
    "This is done utilizing the `with` code block.\n",
    "Using this approach ensures the file is closed as soon as you leave the indented block, avoiding the possibility of leaving many files open accidentally throughout your code.\n"
   ]
  },
  {
   "cell_type": "code",
   "execution_count": null,
   "metadata": {},
   "outputs": [],
   "source": [
    "a = 52\n",
    "with open(output_file_name,'w') as output_file_object:\n",
    "    output_file_object.write('{}'.format(a))"
   ]
  },
  {
   "cell_type": "markdown",
   "metadata": {},
   "source": [
    "If you reopen the `output_results.txt` file, you will see that 32 has been overwritten with the number 52."
   ]
  },
  {
   "cell_type": "markdown",
   "metadata": {},
   "source": [
    "# Final challenge\n",
    "Using what you learning about for loops in the previous session and what you have learned about writing to files in this session:\n",
    "- in less than ten lines of code, generate for loop that results in 100 random numbers written to a file called \"final_challenge.txt\""
   ]
  },
  {
   "cell_type": "code",
   "execution_count": null,
   "metadata": {},
   "outputs": [],
   "source": [
    "# place code here."
   ]
  }
 ],
 "metadata": {
  "kernelspec": {
   "display_name": "Python 3",
   "language": "python",
   "name": "python3"
  },
  "language_info": {
   "codemirror_mode": {
    "name": "ipython",
    "version": 3
   },
   "file_extension": ".py",
   "mimetype": "text/x-python",
   "name": "python",
   "nbconvert_exporter": "python",
   "pygments_lexer": "ipython3",
   "version": "3.8.6"
  }
 },
 "nbformat": 4,
 "nbformat_minor": 4
}
